{
 "cells": [
  {
   "cell_type": "code",
   "execution_count": 1,
   "metadata": {},
   "outputs": [
    {
     "data": {
      "text/plain": [
       "<matplotlib.image.AxesImage at 0x13e190b9c88>"
      ]
     },
     "execution_count": 1,
     "metadata": {},
     "output_type": "execute_result"
    }
   ],
   "source": [
    "import numpy as np\n",
    "from PIL import Image\n",
    "from matplotlib import pyplot as plt\n",
    "\n",
    "filename = '14'\n",
    "\n",
    "img = Image.open( filename + '.jpg' )\n",
    "data = np.array( img, dtype='uint8' )\n",
    "\n",
    "np.save( filename + '.npy', data)\n",
    "\n",
    "# visually testing our output\n",
    "img_array = np.load(filename + '.npy')\n",
    "plt.imshow(img_array)"
   ]
  },
  {
   "cell_type": "code",
   "execution_count": 30,
   "metadata": {},
   "outputs": [],
   "source": [
    "# Imports\n",
    "import numpy as np\n",
    "import keras\n",
    "from keras.datasets import imdb\n",
    "from keras.models import Sequential\n",
    "from keras.layers import Dense, Dropout, Activation\n",
    "from keras.preprocessing.text import Tokenizer\n",
    "import matplotlib.pyplot as plt\n",
    "%matplotlib inline\n",
    "from keras.models import Sequential\n",
    "from keras.layers import Conv2D, MaxPool2D, Dropout, Flatten, Dense"
   ]
  },
  {
   "cell_type": "code",
   "execution_count": 3,
   "metadata": {},
   "outputs": [],
   "source": [
    "import pandas as pd\n",
    "import cv2\n",
    "tr=pd.read_csv(\"train.csv\")"
   ]
  },
  {
   "cell_type": "code",
   "execution_count": 4,
   "metadata": {},
   "outputs": [],
   "source": [
    "import cv2"
   ]
  },
  {
   "cell_type": "code",
   "execution_count": 5,
   "metadata": {},
   "outputs": [
    {
     "data": {
      "text/html": [
       "<div>\n",
       "<style scoped>\n",
       "    .dataframe tbody tr th:only-of-type {\n",
       "        vertical-align: middle;\n",
       "    }\n",
       "\n",
       "    .dataframe tbody tr th {\n",
       "        vertical-align: top;\n",
       "    }\n",
       "\n",
       "    .dataframe thead th {\n",
       "        text-align: right;\n",
       "    }\n",
       "</style>\n",
       "<table border=\"1\" class=\"dataframe\">\n",
       "  <thead>\n",
       "    <tr style=\"text-align: right;\">\n",
       "      <th></th>\n",
       "      <th>image_name</th>\n",
       "      <th>label</th>\n",
       "    </tr>\n",
       "  </thead>\n",
       "  <tbody>\n",
       "    <tr>\n",
       "      <th>0</th>\n",
       "      <td>0.jpg</td>\n",
       "      <td>0</td>\n",
       "    </tr>\n",
       "    <tr>\n",
       "      <th>1</th>\n",
       "      <td>1.jpg</td>\n",
       "      <td>4</td>\n",
       "    </tr>\n",
       "    <tr>\n",
       "      <th>2</th>\n",
       "      <td>2.jpg</td>\n",
       "      <td>5</td>\n",
       "    </tr>\n",
       "    <tr>\n",
       "      <th>3</th>\n",
       "      <td>4.jpg</td>\n",
       "      <td>0</td>\n",
       "    </tr>\n",
       "    <tr>\n",
       "      <th>4</th>\n",
       "      <td>7.jpg</td>\n",
       "      <td>4</td>\n",
       "    </tr>\n",
       "  </tbody>\n",
       "</table>\n",
       "</div>"
      ],
      "text/plain": [
       "  image_name  label\n",
       "0      0.jpg      0\n",
       "1      1.jpg      4\n",
       "2      2.jpg      5\n",
       "3      4.jpg      0\n",
       "4      7.jpg      4"
      ]
     },
     "execution_count": 5,
     "metadata": {},
     "output_type": "execute_result"
    }
   ],
   "source": [
    "tr.head()"
   ]
  },
  {
   "cell_type": "code",
   "execution_count": 6,
   "metadata": {},
   "outputs": [],
   "source": [
    "tr=tr.head(10000)"
   ]
  },
  {
   "cell_type": "markdown",
   "metadata": {},
   "source": [
    "import glob\n",
    "data = []\n",
    "files = glob.glob (\"train/*.jpg\")\n",
    "for myFile in files:\n",
    "    image = cv2.imread (myFile)\n",
    "    data.append (image)\n",
    "\n",
    "print('data shape:', np.array(data).shape)"
   ]
  },
  {
   "cell_type": "code",
   "execution_count": 7,
   "metadata": {},
   "outputs": [],
   "source": [
    "tr[\"image_name\"]=tr[\"image_name\"].apply(lambda x : \"train/\"+x)"
   ]
  },
  {
   "cell_type": "code",
   "execution_count": 8,
   "metadata": {},
   "outputs": [
    {
     "data": {
      "text/html": [
       "<div>\n",
       "<style scoped>\n",
       "    .dataframe tbody tr th:only-of-type {\n",
       "        vertical-align: middle;\n",
       "    }\n",
       "\n",
       "    .dataframe tbody tr th {\n",
       "        vertical-align: top;\n",
       "    }\n",
       "\n",
       "    .dataframe thead th {\n",
       "        text-align: right;\n",
       "    }\n",
       "</style>\n",
       "<table border=\"1\" class=\"dataframe\">\n",
       "  <thead>\n",
       "    <tr style=\"text-align: right;\">\n",
       "      <th></th>\n",
       "      <th>image_name</th>\n",
       "      <th>label</th>\n",
       "    </tr>\n",
       "  </thead>\n",
       "  <tbody>\n",
       "    <tr>\n",
       "      <th>0</th>\n",
       "      <td>train/0.jpg</td>\n",
       "      <td>0</td>\n",
       "    </tr>\n",
       "    <tr>\n",
       "      <th>1</th>\n",
       "      <td>train/1.jpg</td>\n",
       "      <td>4</td>\n",
       "    </tr>\n",
       "    <tr>\n",
       "      <th>2</th>\n",
       "      <td>train/2.jpg</td>\n",
       "      <td>5</td>\n",
       "    </tr>\n",
       "    <tr>\n",
       "      <th>3</th>\n",
       "      <td>train/4.jpg</td>\n",
       "      <td>0</td>\n",
       "    </tr>\n",
       "    <tr>\n",
       "      <th>4</th>\n",
       "      <td>train/7.jpg</td>\n",
       "      <td>4</td>\n",
       "    </tr>\n",
       "  </tbody>\n",
       "</table>\n",
       "</div>"
      ],
      "text/plain": [
       "    image_name  label\n",
       "0  train/0.jpg      0\n",
       "1  train/1.jpg      4\n",
       "2  train/2.jpg      5\n",
       "3  train/4.jpg      0\n",
       "4  train/7.jpg      4"
      ]
     },
     "execution_count": 8,
     "metadata": {},
     "output_type": "execute_result"
    }
   ],
   "source": [
    "tr.head()"
   ]
  },
  {
   "cell_type": "code",
   "execution_count": 9,
   "metadata": {},
   "outputs": [],
   "source": [
    "import glob\n",
    "size=150,150\n",
    "data=[]\n",
    "from PIL import Image\n",
    "import numpy\n",
    "for i in tr[\"image_name\"]:\n",
    "    im = cv2.imread(i)\n",
    "    im= cv2.resize(im, size)\n",
    "    np_i = numpy.array(im)\n",
    "    np_i=np_i/255\n",
    "    data.append(np_i)"
   ]
  },
  {
   "cell_type": "code",
   "execution_count": null,
   "metadata": {},
   "outputs": [],
   "source": []
  },
  {
   "cell_type": "code",
   "execution_count": 21,
   "metadata": {},
   "outputs": [
    {
     "data": {
      "text/plain": [
       "numpy.float64"
      ]
     },
     "execution_count": 21,
     "metadata": {},
     "output_type": "execute_result"
    }
   ],
   "source": [
    "type(data[1][1][1][1]/255)"
   ]
  },
  {
   "cell_type": "code",
   "execution_count": 11,
   "metadata": {},
   "outputs": [],
   "source": [
    "images=np.array(data)"
   ]
  },
  {
   "cell_type": "code",
   "execution_count": null,
   "metadata": {},
   "outputs": [],
   "source": [
    "#images = np.array(data)\n",
    "#images = images.astype('float32')/255.0"
   ]
  },
  {
   "cell_type": "code",
   "execution_count": 12,
   "metadata": {},
   "outputs": [
    {
     "data": {
      "text/plain": [
       "(10000, 150, 150, 3)"
      ]
     },
     "execution_count": 12,
     "metadata": {},
     "output_type": "execute_result"
    }
   ],
   "source": [
    "images.shape"
   ]
  },
  {
   "cell_type": "code",
   "execution_count": null,
   "metadata": {},
   "outputs": [],
   "source": []
  },
  {
   "cell_type": "code",
   "execution_count": 14,
   "metadata": {},
   "outputs": [],
   "source": [
    "test=pd.read_csv(\"test_WyRytb0.csv\")"
   ]
  },
  {
   "cell_type": "code",
   "execution_count": 15,
   "metadata": {},
   "outputs": [],
   "source": [
    "test[\"image_name\"]=test[\"image_name\"].apply(lambda x : \"train/\"+x)"
   ]
  },
  {
   "cell_type": "code",
   "execution_count": 16,
   "metadata": {},
   "outputs": [
    {
     "data": {
      "text/html": [
       "<div>\n",
       "<style scoped>\n",
       "    .dataframe tbody tr th:only-of-type {\n",
       "        vertical-align: middle;\n",
       "    }\n",
       "\n",
       "    .dataframe tbody tr th {\n",
       "        vertical-align: top;\n",
       "    }\n",
       "\n",
       "    .dataframe thead th {\n",
       "        text-align: right;\n",
       "    }\n",
       "</style>\n",
       "<table border=\"1\" class=\"dataframe\">\n",
       "  <thead>\n",
       "    <tr style=\"text-align: right;\">\n",
       "      <th></th>\n",
       "      <th>image_name</th>\n",
       "    </tr>\n",
       "  </thead>\n",
       "  <tbody>\n",
       "    <tr>\n",
       "      <th>0</th>\n",
       "      <td>train/3.jpg</td>\n",
       "    </tr>\n",
       "    <tr>\n",
       "      <th>1</th>\n",
       "      <td>train/5.jpg</td>\n",
       "    </tr>\n",
       "    <tr>\n",
       "      <th>2</th>\n",
       "      <td>train/6.jpg</td>\n",
       "    </tr>\n",
       "    <tr>\n",
       "      <th>3</th>\n",
       "      <td>train/11.jpg</td>\n",
       "    </tr>\n",
       "    <tr>\n",
       "      <th>4</th>\n",
       "      <td>train/14.jpg</td>\n",
       "    </tr>\n",
       "  </tbody>\n",
       "</table>\n",
       "</div>"
      ],
      "text/plain": [
       "     image_name\n",
       "0   train/3.jpg\n",
       "1   train/5.jpg\n",
       "2   train/6.jpg\n",
       "3  train/11.jpg\n",
       "4  train/14.jpg"
      ]
     },
     "execution_count": 16,
     "metadata": {},
     "output_type": "execute_result"
    }
   ],
   "source": [
    "test.head()"
   ]
  },
  {
   "cell_type": "code",
   "execution_count": 21,
   "metadata": {},
   "outputs": [],
   "source": [
    "import glob\n",
    "testy=[]\n",
    "size=150,150\n",
    "from PIL import Image\n",
    "import numpy\n",
    "for i in test[\"image_name\"]:\n",
    "    im = cv2.imread(i)\n",
    "    im= cv2.resize(im, size)\n",
    "    np_i = numpy.array(im)\n",
    "    np_i=np_i/255\n",
    "    testy.append(np_i)"
   ]
  },
  {
   "cell_type": "code",
   "execution_count": 22,
   "metadata": {},
   "outputs": [],
   "source": [
    "test_images=np.array(testy)"
   ]
  },
  {
   "cell_type": "code",
   "execution_count": 29,
   "metadata": {},
   "outputs": [],
   "source": [
    "n_classes=len(tr[\"label\"].unique())"
   ]
  },
  {
   "cell_type": "code",
   "execution_count": 25,
   "metadata": {},
   "outputs": [],
   "source": [
    "labels=tr[\"label\"]"
   ]
  },
  {
   "cell_type": "code",
   "execution_count": 26,
   "metadata": {},
   "outputs": [],
   "source": [
    "from keras.utils import to_categorical \n",
    "labels = to_categorical(labels,6)"
   ]
  },
  {
   "cell_type": "code",
   "execution_count": 27,
   "metadata": {},
   "outputs": [
    {
     "data": {
      "text/plain": [
       "(10000, 6)"
      ]
     },
     "execution_count": 27,
     "metadata": {},
     "output_type": "execute_result"
    }
   ],
   "source": [
    "labels.shape"
   ]
  },
  {
   "cell_type": "code",
   "execution_count": 31,
   "metadata": {},
   "outputs": [
    {
     "name": "stdout",
     "output_type": "stream",
     "text": [
      "_________________________________________________________________\n",
      "Layer (type)                 Output Shape              Param #   \n",
      "=================================================================\n",
      "conv2d_1 (Conv2D)            (None, 73, 73, 32)        2432      \n",
      "_________________________________________________________________\n",
      "max_pooling2d_1 (MaxPooling2 (None, 36, 36, 32)        0         \n",
      "_________________________________________________________________\n",
      "conv2d_2 (Conv2D)            (None, 36, 36, 64)        18496     \n",
      "_________________________________________________________________\n",
      "conv2d_3 (Conv2D)            (None, 36, 36, 64)        36928     \n",
      "_________________________________________________________________\n",
      "max_pooling2d_2 (MaxPooling2 (None, 18, 18, 64)        0         \n",
      "_________________________________________________________________\n",
      "conv2d_4 (Conv2D)            (None, 16, 16, 128)       73856     \n",
      "_________________________________________________________________\n",
      "conv2d_5 (Conv2D)            (None, 14, 14, 128)       147584    \n",
      "_________________________________________________________________\n",
      "max_pooling2d_3 (MaxPooling2 (None, 7, 7, 128)         0         \n",
      "_________________________________________________________________\n",
      "conv2d_6 (Conv2D)            (None, 5, 5, 256)         295168    \n",
      "_________________________________________________________________\n",
      "dropout_1 (Dropout)          (None, 5, 5, 256)         0         \n",
      "_________________________________________________________________\n",
      "flatten_1 (Flatten)          (None, 6400)              0         \n",
      "_________________________________________________________________\n",
      "dense_1 (Dense)              (None, 512)               3277312   \n",
      "_________________________________________________________________\n",
      "dense_2 (Dense)              (None, 6)                 3078      \n",
      "=================================================================\n",
      "Total params: 3,854,854\n",
      "Trainable params: 3,854,854\n",
      "Non-trainable params: 0\n",
      "_________________________________________________________________\n"
     ]
    }
   ],
   "source": [
    "model = Sequential()\n",
    "\n",
    "model.add(Conv2D(32, kernel_size =[5,5], strides = 2, activation = 'relu', input_shape = (150,150,3)))\n",
    "model.add(MaxPool2D(pool_size = [2,2], strides = 2))\n",
    "model.add(Conv2D(64, kernel_size = [3,3], padding = 'same', activation = \"relu\"))\n",
    "model.add(Conv2D(64, kernel_size = [3,3], padding = 'same', activation = \"relu\"))\n",
    "model.add(MaxPool2D(pool_size = [2,2], strides = 2))\n",
    "model.add(Conv2D(128, kernel_size = [3,3], activation = \"relu\"))\n",
    "model.add(Conv2D(128, kernel_size = [3,3], activation = \"relu\"))\n",
    "model.add(MaxPool2D(pool_size = [2,2], strides = 2))\n",
    "model.add(Conv2D(256, kernel_size = [3,3], activation = \"relu\"))\n",
    "model.add(Dropout(0.5))\n",
    "model.add(Flatten())\n",
    "model.add(Dense(512, activation = 'relu'))\n",
    "model.add(Dense(n_classes, activation = 'softmax'))\n",
    "\n",
    "model.summary()"
   ]
  },
  {
   "cell_type": "code",
   "execution_count": 33,
   "metadata": {},
   "outputs": [
    {
     "name": "stdout",
     "output_type": "stream",
     "text": [
      "Train on 9000 samples, validate on 1000 samples\n",
      "Epoch 1/15\n",
      "9000/9000 [==============================] - 342s 38ms/step - loss: 0.6052 - acc: 0.7807 - val_loss: 0.5244 - val_acc: 0.8130\n",
      "Epoch 2/15\n",
      "9000/9000 [==============================] - 341s 38ms/step - loss: 0.5336 - acc: 0.8082 - val_loss: 0.5369 - val_acc: 0.8180\n",
      "Epoch 3/15\n",
      "9000/9000 [==============================] - 344s 38ms/step - loss: 0.5048 - acc: 0.8149 - val_loss: 0.5532 - val_acc: 0.7980\n",
      "Epoch 4/15\n",
      "9000/9000 [==============================] - 341s 38ms/step - loss: 0.4774 - acc: 0.8286 - val_loss: 0.5552 - val_acc: 0.8000\n",
      "Epoch 5/15\n",
      "9000/9000 [==============================] - 339s 38ms/step - loss: 0.4291 - acc: 0.8477 - val_loss: 0.5833 - val_acc: 0.7950\n",
      "Epoch 6/15\n",
      "9000/9000 [==============================] - 340s 38ms/step - loss: 0.3961 - acc: 0.8576 - val_loss: 0.5503 - val_acc: 0.8120\n",
      "Epoch 7/15\n",
      "9000/9000 [==============================] - 339s 38ms/step - loss: 0.3590 - acc: 0.8730 - val_loss: 0.5794 - val_acc: 0.8130\n",
      "Epoch 8/15\n",
      "9000/9000 [==============================] - 340s 38ms/step - loss: 0.3509 - acc: 0.8781 - val_loss: 0.5955 - val_acc: 0.8170\n",
      "Epoch 9/15\n",
      "9000/9000 [==============================] - 341s 38ms/step - loss: 0.3357 - acc: 0.8820 - val_loss: 0.5439 - val_acc: 0.8160\n",
      "Epoch 10/15\n",
      "9000/9000 [==============================] - 342s 38ms/step - loss: 0.2805 - acc: 0.9013 - val_loss: 0.6427 - val_acc: 0.8140\n",
      "Epoch 11/15\n",
      "9000/9000 [==============================] - 341s 38ms/step - loss: 0.2533 - acc: 0.9074 - val_loss: 0.7614 - val_acc: 0.8010\n",
      "Epoch 12/15\n",
      "9000/9000 [==============================] - 341s 38ms/step - loss: 0.2830 - acc: 0.9001 - val_loss: 0.5525 - val_acc: 0.8140\n",
      "Epoch 13/15\n",
      "9000/9000 [==============================] - 344s 38ms/step - loss: 0.2182 - acc: 0.9220 - val_loss: 0.6675 - val_acc: 0.8300\n",
      "Epoch 14/15\n",
      "9000/9000 [==============================] - 342s 38ms/step - loss: 0.2204 - acc: 0.9211 - val_loss: 0.6203 - val_acc: 0.8020\n",
      "Epoch 15/15\n",
      "9000/9000 [==============================] - 341s 38ms/step - loss: 0.2218 - acc: 0.9249 - val_loss: 0.7057 - val_acc: 0.7990\n"
     ]
    }
   ],
   "source": [
    "model.compile(loss = \"categorical_crossentropy\", optimizer = \"adam\", metrics = [\"accuracy\"])\n",
    "model_hist =  model.fit(images,labels, epochs = 15, validation_split = 0.1, batch_size = 32)"
   ]
  },
  {
   "cell_type": "code",
   "execution_count": 36,
   "metadata": {},
   "outputs": [],
   "source": [
    "pred=model.predict(test_images)"
   ]
  },
  {
   "cell_type": "code",
   "execution_count": 37,
   "metadata": {},
   "outputs": [
    {
     "data": {
      "text/plain": [
       "array([[3.4992644e-09, 2.0454650e-08, 3.8696797e-08, 7.6205413e-07,\n",
       "        3.3188987e-06, 9.9999583e-01],\n",
       "       [9.9999022e-01, 5.4264461e-14, 2.7701150e-10, 5.7884296e-15,\n",
       "        1.2402771e-09, 9.7586390e-06],\n",
       "       [1.7149178e-13, 3.3819786e-14, 1.1504543e-06, 2.3229181e-06,\n",
       "        9.9999654e-01, 2.2373414e-12],\n",
       "       ...,\n",
       "       [2.0220650e-05, 8.2395483e-05, 5.4638386e-02, 8.6029083e-01,\n",
       "        7.2242878e-02, 1.2725269e-02],\n",
       "       [1.0533129e-01, 8.5144484e-01, 5.6540121e-05, 4.3206537e-08,\n",
       "        2.7632743e-07, 4.3167137e-02],\n",
       "       [6.3699079e-01, 4.4755484e-11, 1.2429841e-04, 7.7840645e-07,\n",
       "        1.4123952e-01, 2.2164464e-01]], dtype=float32)"
      ]
     },
     "execution_count": 37,
     "metadata": {},
     "output_type": "execute_result"
    }
   ],
   "source": [
    "pred"
   ]
  },
  {
   "cell_type": "code",
   "execution_count": null,
   "metadata": {},
   "outputs": [],
   "source": []
  },
  {
   "cell_type": "code",
   "execution_count": null,
   "metadata": {},
   "outputs": [],
   "source": []
  },
  {
   "cell_type": "code",
   "execution_count": null,
   "metadata": {},
   "outputs": [],
   "source": []
  },
  {
   "cell_type": "code",
   "execution_count": null,
   "metadata": {},
   "outputs": [],
   "source": []
  },
  {
   "cell_type": "code",
   "execution_count": null,
   "metadata": {},
   "outputs": [],
   "source": []
  },
  {
   "cell_type": "code",
   "execution_count": null,
   "metadata": {},
   "outputs": [],
   "source": []
  },
  {
   "cell_type": "code",
   "execution_count": null,
   "metadata": {},
   "outputs": [],
   "source": []
  },
  {
   "cell_type": "code",
   "execution_count": null,
   "metadata": {},
   "outputs": [],
   "source": []
  },
  {
   "cell_type": "code",
   "execution_count": null,
   "metadata": {},
   "outputs": [],
   "source": []
  },
  {
   "cell_type": "code",
   "execution_count": null,
   "metadata": {},
   "outputs": [],
   "source": []
  }
 ],
 "metadata": {
  "kernelspec": {
   "display_name": "Python 3",
   "language": "python",
   "name": "python3"
  },
  "language_info": {
   "codemirror_mode": {
    "name": "ipython",
    "version": 3
   },
   "file_extension": ".py",
   "mimetype": "text/x-python",
   "name": "python",
   "nbconvert_exporter": "python",
   "pygments_lexer": "ipython3",
   "version": "3.6.7"
  }
 },
 "nbformat": 4,
 "nbformat_minor": 2
}
